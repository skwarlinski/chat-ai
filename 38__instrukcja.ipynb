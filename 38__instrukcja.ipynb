{
 "cells": [
  {
   "cell_type": "markdown",
   "metadata": {
    "vscode": {
     "languageId": "plaintext"
    }
   },
   "source": [
    "Ta instrukcja pozwoli Ci odtworzyć kod aplikacji i potrzebnych plików tak, aby skupić się na podłączeniu langfuse do aplikacji. Niemniej gorąco Cię zachęcam do przejścia przez cały proces krok po kroku ze mną, tak jak to pokazuję w lekcji :)"
   ]
  },
  {
   "cell_type": "markdown",
   "metadata": {},
   "source": [
    "0. Zmień nazwę pliku `XX__app.py` (gdzie XX to cyfry) na `app.py`"
   ]
  },
  {
   "cell_type": "markdown",
   "metadata": {},
   "source": [
    "1. W folderze projektu dodaj nowy plik o nazwie `.env` i w jego zawartości wpisz dane dostępu do open ai oraz do langfuse\n",
    "```\n",
    "OPENAI_API_KEY=\"<TWÓJ_KLUCZ_OPEN_AI>\"\n",
    "LANGFUSE_SECRET_KEY=\"<TWÓJ_SEKRETNY_KLUCZ_LANGFUSE>\"\n",
    "LANGFUSE_PUBLIC_KEY=\"<TWÓJ_PUBLICZNY_KLUCZ_LANGFUSE>\"\n",
    "LANGFUSE_HOST=\"https://cloud.langfuse.com\"\n",
    "```"
   ]
  },
  {
   "cell_type": "markdown",
   "metadata": {
    "vscode": {
     "languageId": "plaintext"
    }
   },
   "source": [
    "2. Zmień nazwę pliku `XX__requirements.txt` załączonego pod filmem (gdzie XX to cyfry) na `requirements.txt`"
   ]
  },
  {
   "cell_type": "markdown",
   "metadata": {
    "vscode": {
     "languageId": "plaintext"
    }
   },
   "source": [
    "3. Dalej postępuj zgodnie z instrukcjami w filmie"
   ]
  }
 ],
 "metadata": {
  "kernelspec": {
   "display_name": "Python 3 (ipykernel)",
   "language": "python",
   "name": "python3"
  },
  "language_info": {
   "codemirror_mode": {
    "name": "ipython",
    "version": 3
   },
   "file_extension": ".py",
   "mimetype": "text/x-python",
   "name": "python",
   "nbconvert_exporter": "python",
   "pygments_lexer": "ipython3",
   "version": "3.12.5"
  }
 },
 "nbformat": 4,
 "nbformat_minor": 4
}
